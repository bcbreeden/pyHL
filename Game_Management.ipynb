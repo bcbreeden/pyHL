{
 "cells": [
  {
   "cell_type": "code",
   "execution_count": 1,
   "id": "69db8eef",
   "metadata": {},
   "outputs": [],
   "source": [
    "from data.api.schedule import get_schedule\n",
    "from data.api.plays import get_game_plays\n",
    "import pandas as pd\n",
    "import os"
   ]
  },
  {
   "cell_type": "markdown",
   "id": "abf83c77",
   "metadata": {},
   "source": [
    "## Data Fetch: Schedule\n",
    "\n",
    "Working from CSV limits the number of calls to the API and is, generally, faster. This block will attempt to open a schedule file. If it the file does not exist, it will be created.\n",
    "\n",
    "Configure the season variable if you would like to analyze a different season in the following format: 20222023 for the 2022-2023 season (for example)."
   ]
  },
  {
   "cell_type": "code",
   "execution_count": 4,
   "id": "82152a0b",
   "metadata": {},
   "outputs": [
    {
     "name": "stdout",
     "output_type": "stream",
     "text": [
      "Schedule found, reading...\n",
      "Schedule ready!\n"
     ]
    }
   ],
   "source": [
    "SEASON=20222023\n",
    "\n",
    "if os.path.exists('data/csv/schedules/{}.csv'.format(SEASON)):\n",
    "    print('Schedule found, reading...')\n",
    "    schedule = pd.read_csv('data/csv/schedules/20222023.csv', index_col=0)\n",
    "else:\n",
    "    print('Schedule not found, creating...')\n",
    "    schedule = get_schedule(SEASON, \"r\")\n",
    "    schedule.to_csv('data/csv/schedules/{}.csv'.format(SEASON))\n",
    "print('Schedule ready!')"
   ]
  },
  {
   "cell_type": "code",
   "execution_count": 6,
   "id": "66965285",
   "metadata": {},
   "outputs": [
    {
     "name": "stdout",
     "output_type": "stream",
     "text": [
      "Directory for the configured season already exists.\n",
      "Getting game data for games played. This may take some time...\n"
     ]
    }
   ],
   "source": [
    "if os.path.exists('data/csv/plays/{}'.format(SEASON)):\n",
    "    print(\"Directory for the configured season already exists.\")\n",
    "else:\n",
    "    print(\"Directory for the configured season does not exist. Creating...\")\n",
    "    os.makedirs('data/csv/plays/{}'.format(SEASON))\n",
    "    print(\"Directory created!\")\n",
    "\n",
    "game_ids = schedule['game_id'].to_numpy()\n",
    "print(\"Getting game data for games played. This may take some time...\")\n",
    "for id in game_ids:\n",
    "    plays = get_game_plays(id)\n",
    "    plays.to_csv('data/csv/plays/{}/{}.csv'.format(SEASON, id))\n",
    "    break"
   ]
  },
  {
   "cell_type": "code",
   "execution_count": null,
   "id": "be56af2f",
   "metadata": {},
   "outputs": [],
   "source": []
  }
 ],
 "metadata": {
  "kernelspec": {
   "display_name": "Python 3 (ipykernel)",
   "language": "python",
   "name": "python3"
  },
  "language_info": {
   "codemirror_mode": {
    "name": "ipython",
    "version": 3
   },
   "file_extension": ".py",
   "mimetype": "text/x-python",
   "name": "python",
   "nbconvert_exporter": "python",
   "pygments_lexer": "ipython3",
   "version": "3.10.6"
  }
 },
 "nbformat": 4,
 "nbformat_minor": 5
}
